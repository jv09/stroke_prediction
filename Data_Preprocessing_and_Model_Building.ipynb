{
 "cells": [
  {
   "cell_type": "markdown",
   "metadata": {
    "id": "7uZHjJuMxAjg"
   },
   "source": [
    "## Importing the Libraies"
   ]
  },
  {
   "cell_type": "code",
   "execution_count": 1,
   "metadata": {
    "id": "qHeUv19AtXbK"
   },
   "outputs": [],
   "source": [
    "%matplotlib inline\n",
    "import matplotlib.pyplot as plt\n",
    "import seaborn as sns\n",
    "\n",
    "import numpy as np\n",
    "import pandas as pd\n",
    "\n",
    "import warnings\n",
    "warnings.filterwarnings('ignore')\n",
    "\n",
    "from collections import Counter"
   ]
  },
  {
   "cell_type": "markdown",
   "metadata": {
    "id": "uCnsxn6jxDHC"
   },
   "source": [
    "## Reading the dataset"
   ]
  },
  {
   "cell_type": "code",
   "execution_count": 3,
   "metadata": {
    "id": "dszcrgINthsX"
   },
   "outputs": [],
   "source": [
    "data = pd.read_csv('dataset/healthcare-dataset-stroke-data.csv', na_values='N/A')"
   ]
  },
  {
   "cell_type": "code",
   "execution_count": 4,
   "metadata": {
    "id": "BY4n4-aWtoJy"
   },
   "outputs": [],
   "source": [
    "# Removing \" \" empty space between feature values  \n",
    "\n",
    "from pandas.api.types import is_string_dtype\n",
    "\n",
    "for column in data.columns:\n",
    "    if (is_string_dtype(data[column].dtype)):\n",
    "        data[column] = data[column].str.strip()"
   ]
  },
  {
   "cell_type": "code",
   "execution_count": 5,
   "metadata": {
    "id": "UAWL8NzWtrCS"
   },
   "outputs": [],
   "source": [
    "X = data.loc[:, data.columns != 'stroke']\n",
    "y = data['stroke']"
   ]
  },
  {
   "cell_type": "code",
   "execution_count": 6,
   "metadata": {
    "colab": {
     "base_uri": "https://localhost:8080/"
    },
    "id": "bMNGuq6WtxQT",
    "outputId": "9ca81199-58a2-4756-91bb-ef685cde95f9"
   },
   "outputs": [
    {
     "name": "stdout",
     "output_type": "stream",
     "text": [
      "(5110, 11) (5110,)\n"
     ]
    }
   ],
   "source": [
    "print(X.shape, y.shape)"
   ]
  },
  {
   "cell_type": "code",
   "execution_count": 7,
   "metadata": {
    "id": "ont89pKet4aq"
   },
   "outputs": [],
   "source": [
    "from sklearn.model_selection import train_test_split\n",
    "\n",
    "X_train, X_test, y_train, y_test = train_test_split(X, y, test_size=0.20, random_state=0)\n",
    "\n",
    "# Train - 80% , Test - 20%"
   ]
  },
  {
   "cell_type": "code",
   "execution_count": 8,
   "metadata": {
    "colab": {
     "base_uri": "https://localhost:8080/"
    },
    "id": "Dvqkj34nt6pO",
    "outputId": "2bffbfff-45d6-489e-e042-e09ee0d37daf"
   },
   "outputs": [
    {
     "name": "stdout",
     "output_type": "stream",
     "text": [
      "(4088, 11) (1022, 11) (4088,) (1022,)\n"
     ]
    }
   ],
   "source": [
    "print(X_train.shape, X_test.shape, y_train.shape, y_test.shape)"
   ]
  },
  {
   "cell_type": "markdown",
   "metadata": {
    "id": "S4a5qA18I1jd"
   },
   "source": [
    "## Data Preprocessing"
   ]
  },
  {
   "cell_type": "markdown",
   "metadata": {
    "id": "Brew-_pBxKLU"
   },
   "source": [
    "### Handling Missing Values"
   ]
  },
  {
   "cell_type": "markdown",
   "metadata": {
    "id": "_Qlx6xLVxMwl"
   },
   "source": [
    "#### Simple Imputation by Sklearn - Mean/Median/Most Frequent"
   ]
  },
  {
   "cell_type": "code",
   "execution_count": 9,
   "metadata": {
    "id": "H_Giy_wqt8j3"
   },
   "outputs": [],
   "source": [
    "from sklearn.impute import SimpleImputer"
   ]
  },
  {
   "cell_type": "code",
   "execution_count": 10,
   "metadata": {
    "id": "mSOCerzQuAZs"
   },
   "outputs": [],
   "source": [
    "si_X_train = pd.DataFrame() # create a new dataframe to save the train dataset\n",
    "si_X_test = pd.DataFrame() # create a new dataframe to save the test dataset"
   ]
  },
  {
   "cell_type": "code",
   "execution_count": 11,
   "metadata": {
    "id": "v9ljG-iCuBgc"
   },
   "outputs": [],
   "source": [
    "for column in X_train.columns:\n",
    "  if (is_string_dtype(X_train[column].dtype)):\n",
    "    si = SimpleImputer(strategy='most_frequent')\n",
    "  else:\n",
    "    si = SimpleImputer(strategy='median')\n",
    "  si.fit(X_train[[column]])\n",
    "  si_X_train[column] = si.transform(X_train[[column]]).flatten() # Flatten 2D matrix to 1D \n",
    "  si_X_test[column] = si.transform(X_test[[column]]).flatten()"
   ]
  },
  {
   "cell_type": "code",
   "execution_count": 12,
   "metadata": {
    "colab": {
     "base_uri": "https://localhost:8080/",
     "height": 424
    },
    "id": "gFJxt8BruDBx",
    "outputId": "727494ed-0ddd-4140-eb56-2b04240b57b3"
   },
   "outputs": [
    {
     "data": {
      "text/html": [
       "<div>\n",
       "<style scoped>\n",
       "    .dataframe tbody tr th:only-of-type {\n",
       "        vertical-align: middle;\n",
       "    }\n",
       "\n",
       "    .dataframe tbody tr th {\n",
       "        vertical-align: top;\n",
       "    }\n",
       "\n",
       "    .dataframe thead th {\n",
       "        text-align: right;\n",
       "    }\n",
       "</style>\n",
       "<table border=\"1\" class=\"dataframe\">\n",
       "  <thead>\n",
       "    <tr style=\"text-align: right;\">\n",
       "      <th></th>\n",
       "      <th>id</th>\n",
       "      <th>gender</th>\n",
       "      <th>age</th>\n",
       "      <th>hypertension</th>\n",
       "      <th>heart_disease</th>\n",
       "      <th>ever_married</th>\n",
       "      <th>work_type</th>\n",
       "      <th>Residence_type</th>\n",
       "      <th>avg_glucose_level</th>\n",
       "      <th>bmi</th>\n",
       "      <th>smoking_status</th>\n",
       "    </tr>\n",
       "  </thead>\n",
       "  <tbody>\n",
       "    <tr>\n",
       "      <th>0</th>\n",
       "      <td>28932.0</td>\n",
       "      <td>Female</td>\n",
       "      <td>36.0</td>\n",
       "      <td>0.0</td>\n",
       "      <td>0.0</td>\n",
       "      <td>Yes</td>\n",
       "      <td>Private</td>\n",
       "      <td>Rural</td>\n",
       "      <td>67.29</td>\n",
       "      <td>36.7</td>\n",
       "      <td>formerly smoked</td>\n",
       "    </tr>\n",
       "    <tr>\n",
       "      <th>1</th>\n",
       "      <td>37150.0</td>\n",
       "      <td>Female</td>\n",
       "      <td>34.0</td>\n",
       "      <td>0.0</td>\n",
       "      <td>0.0</td>\n",
       "      <td>Yes</td>\n",
       "      <td>Private</td>\n",
       "      <td>Rural</td>\n",
       "      <td>83.53</td>\n",
       "      <td>48.5</td>\n",
       "      <td>formerly smoked</td>\n",
       "    </tr>\n",
       "    <tr>\n",
       "      <th>2</th>\n",
       "      <td>71669.0</td>\n",
       "      <td>Male</td>\n",
       "      <td>60.0</td>\n",
       "      <td>0.0</td>\n",
       "      <td>0.0</td>\n",
       "      <td>Yes</td>\n",
       "      <td>Private</td>\n",
       "      <td>Rural</td>\n",
       "      <td>65.16</td>\n",
       "      <td>30.8</td>\n",
       "      <td>never smoked</td>\n",
       "    </tr>\n",
       "    <tr>\n",
       "      <th>3</th>\n",
       "      <td>27153.0</td>\n",
       "      <td>Female</td>\n",
       "      <td>75.0</td>\n",
       "      <td>0.0</td>\n",
       "      <td>0.0</td>\n",
       "      <td>Yes</td>\n",
       "      <td>Self-employed</td>\n",
       "      <td>Rural</td>\n",
       "      <td>78.80</td>\n",
       "      <td>29.3</td>\n",
       "      <td>formerly smoked</td>\n",
       "    </tr>\n",
       "    <tr>\n",
       "      <th>4</th>\n",
       "      <td>58235.0</td>\n",
       "      <td>Male</td>\n",
       "      <td>76.0</td>\n",
       "      <td>0.0</td>\n",
       "      <td>0.0</td>\n",
       "      <td>Yes</td>\n",
       "      <td>Private</td>\n",
       "      <td>Urban</td>\n",
       "      <td>58.65</td>\n",
       "      <td>25.6</td>\n",
       "      <td>smokes</td>\n",
       "    </tr>\n",
       "    <tr>\n",
       "      <th>...</th>\n",
       "      <td>...</td>\n",
       "      <td>...</td>\n",
       "      <td>...</td>\n",
       "      <td>...</td>\n",
       "      <td>...</td>\n",
       "      <td>...</td>\n",
       "      <td>...</td>\n",
       "      <td>...</td>\n",
       "      <td>...</td>\n",
       "      <td>...</td>\n",
       "      <td>...</td>\n",
       "    </tr>\n",
       "    <tr>\n",
       "      <th>4083</th>\n",
       "      <td>30457.0</td>\n",
       "      <td>Female</td>\n",
       "      <td>53.0</td>\n",
       "      <td>1.0</td>\n",
       "      <td>0.0</td>\n",
       "      <td>Yes</td>\n",
       "      <td>Govt_job</td>\n",
       "      <td>Rural</td>\n",
       "      <td>98.61</td>\n",
       "      <td>38.8</td>\n",
       "      <td>smokes</td>\n",
       "    </tr>\n",
       "    <tr>\n",
       "      <th>4084</th>\n",
       "      <td>24836.0</td>\n",
       "      <td>Female</td>\n",
       "      <td>61.0</td>\n",
       "      <td>0.0</td>\n",
       "      <td>0.0</td>\n",
       "      <td>Yes</td>\n",
       "      <td>Private</td>\n",
       "      <td>Rural</td>\n",
       "      <td>72.01</td>\n",
       "      <td>26.0</td>\n",
       "      <td>formerly smoked</td>\n",
       "    </tr>\n",
       "    <tr>\n",
       "      <th>4085</th>\n",
       "      <td>17079.0</td>\n",
       "      <td>Male</td>\n",
       "      <td>44.0</td>\n",
       "      <td>0.0</td>\n",
       "      <td>0.0</td>\n",
       "      <td>Yes</td>\n",
       "      <td>Private</td>\n",
       "      <td>Rural</td>\n",
       "      <td>94.71</td>\n",
       "      <td>28.4</td>\n",
       "      <td>smokes</td>\n",
       "    </tr>\n",
       "    <tr>\n",
       "      <th>4086</th>\n",
       "      <td>72340.0</td>\n",
       "      <td>Male</td>\n",
       "      <td>21.0</td>\n",
       "      <td>0.0</td>\n",
       "      <td>0.0</td>\n",
       "      <td>No</td>\n",
       "      <td>Private</td>\n",
       "      <td>Urban</td>\n",
       "      <td>120.94</td>\n",
       "      <td>29.7</td>\n",
       "      <td>formerly smoked</td>\n",
       "    </tr>\n",
       "    <tr>\n",
       "      <th>4087</th>\n",
       "      <td>52242.0</td>\n",
       "      <td>Female</td>\n",
       "      <td>58.0</td>\n",
       "      <td>1.0</td>\n",
       "      <td>0.0</td>\n",
       "      <td>Yes</td>\n",
       "      <td>Govt_job</td>\n",
       "      <td>Rural</td>\n",
       "      <td>59.52</td>\n",
       "      <td>33.2</td>\n",
       "      <td>never smoked</td>\n",
       "    </tr>\n",
       "  </tbody>\n",
       "</table>\n",
       "<p>4088 rows × 11 columns</p>\n",
       "</div>"
      ],
      "text/plain": [
       "           id  gender   age  hypertension  heart_disease ever_married  \\\n",
       "0     28932.0  Female  36.0           0.0            0.0          Yes   \n",
       "1     37150.0  Female  34.0           0.0            0.0          Yes   \n",
       "2     71669.0    Male  60.0           0.0            0.0          Yes   \n",
       "3     27153.0  Female  75.0           0.0            0.0          Yes   \n",
       "4     58235.0    Male  76.0           0.0            0.0          Yes   \n",
       "...       ...     ...   ...           ...            ...          ...   \n",
       "4083  30457.0  Female  53.0           1.0            0.0          Yes   \n",
       "4084  24836.0  Female  61.0           0.0            0.0          Yes   \n",
       "4085  17079.0    Male  44.0           0.0            0.0          Yes   \n",
       "4086  72340.0    Male  21.0           0.0            0.0           No   \n",
       "4087  52242.0  Female  58.0           1.0            0.0          Yes   \n",
       "\n",
       "          work_type Residence_type  avg_glucose_level   bmi   smoking_status  \n",
       "0           Private          Rural              67.29  36.7  formerly smoked  \n",
       "1           Private          Rural              83.53  48.5  formerly smoked  \n",
       "2           Private          Rural              65.16  30.8     never smoked  \n",
       "3     Self-employed          Rural              78.80  29.3  formerly smoked  \n",
       "4           Private          Urban              58.65  25.6           smokes  \n",
       "...             ...            ...                ...   ...              ...  \n",
       "4083       Govt_job          Rural              98.61  38.8           smokes  \n",
       "4084        Private          Rural              72.01  26.0  formerly smoked  \n",
       "4085        Private          Rural              94.71  28.4           smokes  \n",
       "4086        Private          Urban             120.94  29.7  formerly smoked  \n",
       "4087       Govt_job          Rural              59.52  33.2     never smoked  \n",
       "\n",
       "[4088 rows x 11 columns]"
      ]
     },
     "execution_count": 12,
     "metadata": {},
     "output_type": "execute_result"
    }
   ],
   "source": [
    "si_X_train"
   ]
  },
  {
   "cell_type": "markdown",
   "metadata": {
    "id": "ePkCydM5xS_C"
   },
   "source": [
    "### Handling Text Features"
   ]
  },
  {
   "cell_type": "markdown",
   "metadata": {
    "id": "UxQNw-WhxVd7"
   },
   "source": [
    "#### Label Encoder"
   ]
  },
  {
   "cell_type": "code",
   "execution_count": 13,
   "metadata": {
    "id": "KFAwWPnFuOwP"
   },
   "outputs": [],
   "source": [
    "categorical_features = []\n",
    "for col in data.columns:\n",
    "  if col=='Class':\n",
    "    continue\n",
    "  if is_string_dtype(data[col].dtype):\n",
    "    categorical_features.append(col)"
   ]
  },
  {
   "cell_type": "code",
   "execution_count": 14,
   "metadata": {
    "colab": {
     "base_uri": "https://localhost:8080/"
    },
    "id": "1EPHTwiquVBL",
    "outputId": "42d98670-43ec-4838-ab6f-8f0456fed014"
   },
   "outputs": [
    {
     "data": {
      "text/plain": [
       "['gender', 'ever_married', 'work_type', 'Residence_type', 'smoking_status']"
      ]
     },
     "execution_count": 14,
     "metadata": {},
     "output_type": "execute_result"
    }
   ],
   "source": [
    "categorical_features"
   ]
  },
  {
   "cell_type": "code",
   "execution_count": 15,
   "metadata": {
    "id": "KocIp8r-uWDp"
   },
   "outputs": [],
   "source": [
    "from sklearn.preprocessing import LabelEncoder\n",
    "le = LabelEncoder()"
   ]
  },
  {
   "cell_type": "code",
   "execution_count": 16,
   "metadata": {
    "id": "ppVOP6X3uXSP"
   },
   "outputs": [],
   "source": [
    "# Convert the Label Class \n",
    "\n",
    "y_train = le.fit_transform(y_train)\n",
    "y_test = le.transform(y_test)"
   ]
  },
  {
   "cell_type": "code",
   "execution_count": 17,
   "metadata": {
    "id": "PFhH48E2ufUw"
   },
   "outputs": [],
   "source": [
    "l_X_train = pd.DataFrame() # Train dataset --> before scaling\n",
    "l_X_test = pd.DataFrame() # Test dataset --> before scaling"
   ]
  },
  {
   "cell_type": "code",
   "execution_count": 22,
   "metadata": {
    "id": "WsbWoVebullX"
   },
   "outputs": [],
   "source": [
    "# Convert the text features\n",
    "\n",
    "for column in X_train.columns:\n",
    "  if column in categorical_features:\n",
    "    l_X_train[column] = le.fit_transform(si_X_train[column])\n",
    "    l_X_test[column] = le.transform(si_X_test[column])\n",
    "  else:\n",
    "    l_X_train[column] = si_X_train[column].copy()\n",
    "    l_X_test[column] = si_X_test[column].copy()"
   ]
  },
  {
   "cell_type": "code",
   "execution_count": 25,
   "metadata": {
    "colab": {
     "base_uri": "https://localhost:8080/"
    },
    "id": "NfxHnMS3upeQ",
    "outputId": "f55e7268-3338-4081-f8d5-ae91870d5668"
   },
   "outputs": [
    {
     "data": {
      "text/plain": [
       "id                   0\n",
       "gender               0\n",
       "age                  0\n",
       "hypertension         0\n",
       "heart_disease        0\n",
       "ever_married         0\n",
       "work_type            0\n",
       "Residence_type       0\n",
       "avg_glucose_level    0\n",
       "bmi                  0\n",
       "smoking_status       0\n",
       "dtype: int64"
      ]
     },
     "execution_count": 25,
     "metadata": {},
     "output_type": "execute_result"
    }
   ],
   "source": [
    "l_X_train.isnull().sum()"
   ]
  },
  {
   "cell_type": "markdown",
   "metadata": {
    "id": "i3n6eGjQxcKS"
   },
   "source": [
    "## Oversampling the dataset"
   ]
  },
  {
   "cell_type": "markdown",
   "metadata": {
    "id": "lHF7nvfrxoKL"
   },
   "source": [
    "whichever classess has less number of values, we will impute and increase the values in those classes"
   ]
  },
  {
   "cell_type": "code",
   "execution_count": 26,
   "metadata": {
    "colab": {
     "base_uri": "https://localhost:8080/"
    },
    "id": "EGnMlnL9vXex",
    "outputId": "99263b80-c94f-4f9c-f09d-501c46e075d1"
   },
   "outputs": [
    {
     "name": "stdout",
     "output_type": "stream",
     "text": [
      "The number of classes before fit Counter({0: 3893, 1: 195})\n",
      "The number of classes after fit Counter({0: 3893, 1: 2919})\n"
     ]
    }
   ],
   "source": [
    "from imblearn.over_sampling import RandomOverSampler\n",
    "\n",
    "os=RandomOverSampler(0.75) # 75%\n",
    "l_X_train_ns,y_train_ns = os.fit_resample(l_X_train,y_train)\n",
    "\n",
    "print(\"The number of classes before fit {}\".format(Counter(y_train)))\n",
    "print(\"The number of classes after fit {}\".format(Counter(y_train_ns)))"
   ]
  },
  {
   "cell_type": "markdown",
   "metadata": {
    "id": "7BjqejcRJkgh"
   },
   "source": [
    "## Feature Scaling"
   ]
  },
  {
   "cell_type": "markdown",
   "metadata": {
    "id": "HzeHts6IJmQR"
   },
   "source": [
    "#### Standardization"
   ]
  },
  {
   "cell_type": "code",
   "execution_count": 27,
   "metadata": {
    "id": "xLTAvuj8u6Ku"
   },
   "outputs": [],
   "source": [
    "from sklearn.preprocessing import StandardScaler\n",
    "ss = StandardScaler()\n",
    "\n",
    "l_X_train_ns = ss.fit_transform(l_X_train_ns)\n",
    "l_X_test = ss.transform(l_X_test)"
   ]
  },
  {
   "cell_type": "code",
   "execution_count": 28,
   "metadata": {
    "colab": {
     "base_uri": "https://localhost:8080/"
    },
    "id": "nOnlQ1KVvHPf",
    "outputId": "842cc569-6bb2-4809-f7e0-db297e9f8fbb"
   },
   "outputs": [
    {
     "name": "stdout",
     "output_type": "stream",
     "text": [
      "           id  gender   age  hypertension  heart_disease  ever_married  \\\n",
      "0     28932.0       0  36.0           0.0            0.0             1   \n",
      "1     37150.0       0  34.0           0.0            0.0             1   \n",
      "2     71669.0       1  60.0           0.0            0.0             1   \n",
      "3     27153.0       0  75.0           0.0            0.0             1   \n",
      "4     58235.0       1  76.0           0.0            0.0             1   \n",
      "...       ...     ...   ...           ...            ...           ...   \n",
      "4083  30457.0       0  53.0           1.0            0.0             1   \n",
      "4084  24836.0       0  61.0           0.0            0.0             1   \n",
      "4085  17079.0       1  44.0           0.0            0.0             1   \n",
      "4086  72340.0       1  21.0           0.0            0.0             0   \n",
      "4087  52242.0       0  58.0           1.0            0.0             1   \n",
      "\n",
      "      work_type  Residence_type  avg_glucose_level   bmi  smoking_status  \n",
      "0             2               0              67.29  36.7               1  \n",
      "1             2               0              83.53  48.5               1  \n",
      "2             2               0              65.16  30.8               2  \n",
      "3             3               0              78.80  29.3               1  \n",
      "4             2               1              58.65  25.6               3  \n",
      "...         ...             ...                ...   ...             ...  \n",
      "4083          0               0              98.61  38.8               3  \n",
      "4084          2               0              72.01  26.0               1  \n",
      "4085          2               0              94.71  28.4               3  \n",
      "4086          2               1             120.94  29.7               1  \n",
      "4087          0               0              59.52  33.2               2  \n",
      "\n",
      "[4088 rows x 11 columns]\n"
     ]
    }
   ],
   "source": [
    "print(l_X_train)"
   ]
  },
  {
   "cell_type": "markdown",
   "metadata": {
    "id": "RqDQfla1xuBo"
   },
   "source": [
    "## Model Building"
   ]
  },
  {
   "cell_type": "markdown",
   "metadata": {
    "id": "FnPM8E7XJxd0"
   },
   "source": [
    "## Classification Evaluatin Metrics"
   ]
  },
  {
   "cell_type": "code",
   "execution_count": 29,
   "metadata": {
    "id": "KPEJD6lcyELX"
   },
   "outputs": [],
   "source": [
    "from sklearn.metrics import accuracy_score, precision_score, recall_score, f1_score, matthews_corrcoef\n",
    "\n",
    "def evaluate_preds(y_test,y_pred):\n",
    "    accuracy = accuracy_score(y_test,y_pred)\n",
    "    precision = precision_score(y_test,y_pred)\n",
    "    recall = recall_score(y_test,y_pred) \n",
    "    f1 = f1_score(y_test,y_pred)\n",
    "    mcc = matthews_corrcoef(y_test,y_pred)\n",
    "\n",
    "    metric_dict = {\n",
    "        \"accuracy\":round(accuracy,2),\n",
    "        \"precision\":round(precision,2),\n",
    "        \"recall\":round(recall,2),\n",
    "        \"f1\":round(f1,2),\n",
    "        \"mcc\": mcc \n",
    "    } # A dictionary that stores the results of the evaluation metrics\n",
    "    \n",
    "    print(f\"Acc: {accuracy * 100:.2f}%\")\n",
    "    print(f\"Precision: {precision:.2f}\")\n",
    "    print(f\"Recall: {recall:.2f}\")\n",
    "    print(f\"F1 score: {f1:.2f}\")\n",
    "    print(f'MCC Score: {mcc:.2f}')\n",
    "    \n",
    "    return metric_dict"
   ]
  },
  {
   "cell_type": "markdown",
   "metadata": {
    "id": "hG9IQlXtxyjw"
   },
   "source": [
    "### SVM"
   ]
  },
  {
   "cell_type": "code",
   "execution_count": 47,
   "metadata": {
    "colab": {
     "base_uri": "https://localhost:8080/"
    },
    "id": "oLKceh5SyBLs",
    "outputId": "479168e5-0976-4511-d1b8-06290c38db6f"
   },
   "outputs": [
    {
     "data": {
      "text/plain": [
       "SVC(random_state=0)"
      ]
     },
     "execution_count": 47,
     "metadata": {},
     "output_type": "execute_result"
    }
   ],
   "source": [
    "from sklearn.svm import SVC\n",
    "svc = SVC(kernel='rbf',random_state=0)\n",
    "svc.fit(l_X_train_ns,y_train_ns)"
   ]
  },
  {
   "cell_type": "code",
   "execution_count": 48,
   "metadata": {
    "colab": {
     "base_uri": "https://localhost:8080/"
    },
    "id": "W58UKuNJyQdv",
    "outputId": "ee03d49c-82e5-4063-921b-f17f942679fd"
   },
   "outputs": [
    {
     "name": "stdout",
     "output_type": "stream",
     "text": [
      "Acc: 82.29%\n",
      "Precision: 0.15\n",
      "Recall: 0.48\n",
      "F1 score: 0.22\n",
      "MCC Score: 0.19\n"
     ]
    }
   ],
   "source": [
    "y_pred = svc.predict(l_X_test)\n",
    "model_metrics = evaluate_preds(y_test, y_pred)"
   ]
  },
  {
   "cell_type": "markdown",
   "metadata": {
    "id": "b9PP7yD3z2oW"
   },
   "source": [
    "### Naive Bayes"
   ]
  },
  {
   "cell_type": "code",
   "execution_count": 49,
   "metadata": {
    "colab": {
     "base_uri": "https://localhost:8080/"
    },
    "id": "4s7Lm_vCvLwL",
    "outputId": "eff45f87-3687-423c-842a-648c820c597f"
   },
   "outputs": [
    {
     "data": {
      "text/plain": [
       "GaussianNB()"
      ]
     },
     "execution_count": 49,
     "metadata": {},
     "output_type": "execute_result"
    }
   ],
   "source": [
    "from sklearn.naive_bayes import GaussianNB\n",
    "naive = GaussianNB()\n",
    "naive.fit(l_X_train_ns,y_train_ns)"
   ]
  },
  {
   "cell_type": "code",
   "execution_count": 50,
   "metadata": {
    "colab": {
     "base_uri": "https://localhost:8080/"
    },
    "id": "2bMDd6W30laD",
    "outputId": "03bca2b4-b84a-432a-8885-5a71bade6596"
   },
   "outputs": [
    {
     "name": "stdout",
     "output_type": "stream",
     "text": [
      "Acc: 79.26%\n",
      "Precision: 0.16\n",
      "Recall: 0.69\n",
      "F1 score: 0.26\n",
      "MCC Score: 0.26\n"
     ]
    }
   ],
   "source": [
    "y_pred = naive.predict(l_X_test)\n",
    "model_metrics = evaluate_preds(y_test, y_pred)"
   ]
  },
  {
   "cell_type": "markdown",
   "metadata": {
    "id": "be7RuBjT0tmW"
   },
   "source": [
    "### Logistic Regression"
   ]
  },
  {
   "cell_type": "code",
   "execution_count": 51,
   "metadata": {
    "colab": {
     "base_uri": "https://localhost:8080/"
    },
    "id": "5xXQVRTr0qGE",
    "outputId": "cfeaffb8-537b-4421-dbee-5b65cb832543"
   },
   "outputs": [
    {
     "data": {
      "text/plain": [
       "LogisticRegression()"
      ]
     },
     "execution_count": 51,
     "metadata": {},
     "output_type": "execute_result"
    }
   ],
   "source": [
    "from sklearn.linear_model import LogisticRegression\n",
    "\n",
    "logistic = LogisticRegression()\n",
    "logistic.fit(l_X_train_ns,y_train_ns)"
   ]
  },
  {
   "cell_type": "code",
   "execution_count": 52,
   "metadata": {
    "colab": {
     "base_uri": "https://localhost:8080/"
    },
    "id": "sGDRC9ca1Qc2",
    "outputId": "7fa65abe-5c47-4aa0-ab07-418468039947"
   },
   "outputs": [
    {
     "name": "stdout",
     "output_type": "stream",
     "text": [
      "Acc: 80.72%\n",
      "Precision: 0.16\n",
      "Recall: 0.65\n",
      "F1 score: 0.26\n",
      "MCC Score: 0.26\n"
     ]
    }
   ],
   "source": [
    "y_pred = logistic.predict(l_X_test)\n",
    "model_metrics = evaluate_preds(y_test, y_pred)"
   ]
  },
  {
   "cell_type": "markdown",
   "metadata": {
    "id": "j6WX7fbb1Z5v"
   },
   "source": [
    "### k Nearest Neighbours"
   ]
  },
  {
   "cell_type": "code",
   "execution_count": 53,
   "metadata": {
    "colab": {
     "base_uri": "https://localhost:8080/"
    },
    "id": "JCkMWveK1X3z",
    "outputId": "6cc37330-ffbe-4338-c808-9bf15de4539f"
   },
   "outputs": [
    {
     "data": {
      "text/plain": [
       "KNeighborsClassifier(n_neighbors=40)"
      ]
     },
     "execution_count": 53,
     "metadata": {},
     "output_type": "execute_result"
    }
   ],
   "source": [
    "from sklearn.neighbors import KNeighborsClassifier\n",
    "\n",
    "neigh = KNeighborsClassifier(n_neighbors=40)\n",
    "neigh.fit(l_X_train_ns,y_train_ns)"
   ]
  },
  {
   "cell_type": "code",
   "execution_count": 54,
   "metadata": {
    "colab": {
     "base_uri": "https://localhost:8080/"
    },
    "id": "RI0UKv-a2UwZ",
    "outputId": "04061892-b255-4bf0-ae87-9e8c8fab1b04"
   },
   "outputs": [
    {
     "name": "stdout",
     "output_type": "stream",
     "text": [
      "Acc: 76.91%\n",
      "Precision: 0.13\n",
      "Recall: 0.59\n",
      "F1 score: 0.21\n",
      "MCC Score: 0.19\n"
     ]
    }
   ],
   "source": [
    "y_pred = neigh.predict(l_X_test)\n",
    "model_metrics = evaluate_preds(y_test, y_pred)"
   ]
  },
  {
   "cell_type": "markdown",
   "metadata": {
    "id": "ABIVk7Wk3D1N"
   },
   "source": [
    "### RandomForestClassifier"
   ]
  },
  {
   "cell_type": "code",
   "execution_count": 55,
   "metadata": {
    "colab": {
     "base_uri": "https://localhost:8080/"
    },
    "id": "N4_kmNoD2izz",
    "outputId": "ec0b76ee-3a80-44e1-9cc3-61ea70623e9d"
   },
   "outputs": [
    {
     "data": {
      "text/plain": [
       "RandomForestClassifier(criterion='entropy', n_estimators=500, n_jobs=-1)"
      ]
     },
     "execution_count": 55,
     "metadata": {},
     "output_type": "execute_result"
    }
   ],
   "source": [
    "from sklearn.ensemble import RandomForestClassifier\n",
    "\n",
    "rf = RandomForestClassifier(n_estimators=500, n_jobs=-1, criterion='entropy')\n",
    "rf.fit(l_X_train_ns,y_train_ns)"
   ]
  },
  {
   "cell_type": "code",
   "execution_count": 56,
   "metadata": {
    "colab": {
     "base_uri": "https://localhost:8080/"
    },
    "id": "bziaapAq3MqB",
    "outputId": "31428a4f-cf81-47ba-e2f5-c3f526847fa4"
   },
   "outputs": [
    {
     "name": "stdout",
     "output_type": "stream",
     "text": [
      "Acc: 94.81%\n",
      "Precision: 1.00\n",
      "Recall: 0.02\n",
      "F1 score: 0.04\n",
      "MCC Score: 0.13\n"
     ]
    }
   ],
   "source": [
    "y_pred = rf.predict(l_X_test)\n",
    "model_metrics = evaluate_preds(y_test, y_pred)"
   ]
  },
  {
   "cell_type": "code",
   "execution_count": null,
   "metadata": {},
   "outputs": [],
   "source": []
  }
 ],
 "metadata": {
  "colab": {
   "collapsed_sections": [],
   "name": "Data Preprocessing and Model Building.ipynb",
   "provenance": []
  },
  "kernelspec": {
   "display_name": "Python 3",
   "language": "python",
   "name": "python3"
  },
  "language_info": {
   "codemirror_mode": {
    "name": "ipython",
    "version": 3
   },
   "file_extension": ".py",
   "mimetype": "text/x-python",
   "name": "python",
   "nbconvert_exporter": "python",
   "pygments_lexer": "ipython3",
   "version": "3.8.5"
  }
 },
 "nbformat": 4,
 "nbformat_minor": 1
}
